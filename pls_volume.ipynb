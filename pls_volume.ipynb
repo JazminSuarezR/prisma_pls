{
 "cells": [
  {
   "cell_type": "code",
   "execution_count": 1,
   "metadata": {},
   "outputs": [
    {
     "name": "stderr",
     "output_type": "stream",
     "text": [
      "/opt/miniconda3/lib/python3.9/site-packages/nilearn/input_data/__init__.py:27: FutureWarning: The import path 'nilearn.input_data' is deprecated in version 0.9. Importing from 'nilearn.input_data' will be possible at least until release 0.13.0. Please import from 'nilearn.maskers' instead.\n",
      "  warnings.warn(message, FutureWarning)\n"
     ]
    }
   ],
   "source": [
    "import pandas as pd\n",
    "from freesurfer_stats import CorticalParcellationStats\n",
    "import glob\n",
    "import re\n",
    "import itertools\n",
    "import numpy as np\n",
    "import pyls\n",
    "import seaborn as sns\n",
    "import matplotlib.pyplot as plt\n",
    "import matplotlib.colors as mcolors\n",
    "from sklearn.preprocessing import LabelEncoder,OrdinalEncoder\n",
    "import pickle\n",
    "from sklearn import preprocessing\n",
    "from scipy.stats import zscore\n",
    "from nilearn import input_data\n",
    "from nilearn import plotting"
   ]
  },
  {
   "cell_type": "code",
   "execution_count": 2,
   "metadata": {},
   "outputs": [],
   "source": [
    "sns.set_context(\"notebook\", font_scale=1.7)\n",
    "sns.set_style(\"whitegrid\")"
   ]
  },
  {
   "cell_type": "markdown",
   "metadata": {},
   "source": [
    "## PLS ANALYSIS"
   ]
  },
  {
   "cell_type": "code",
   "execution_count": 3,
   "metadata": {},
   "outputs": [],
   "source": [
    "all_volumes_file = 'data/all_volumes.csv'\n",
    "all_volumes = pd.read_csv(all_volumes_file)\n",
    "all_volumes.drop(columns=all_volumes.columns[0], axis=1, inplace=True)\n",
    "#all_volumes.columns.to_list()"
   ]
  },
  {
   "cell_type": "code",
   "execution_count": 5,
   "metadata": {},
   "outputs": [],
   "source": [
    "# Selección de estructuras, no se inlcluye el 5to ventrículo\n",
    "columns = list(range(0,15)) + list(range(21,54)) + list(range(61,467))\n",
    "#columns = list(range(0,4)) + list(range(21,54)) + list(range(61,467))\n",
    "selected_values = all_volumes.iloc[:,columns]\n",
    "#list(selected_values.columns)"
   ]
  },
  {
   "cell_type": "markdown",
   "metadata": {},
   "source": [
    "## NORMALIZATION BY ETIV"
   ]
  },
  {
   "cell_type": "code",
   "execution_count": null,
   "metadata": {},
   "outputs": [],
   "source": [
    "selected_values.iloc[:,3:] = selected_values.iloc[:,3:].div(selected_values[\"Estimated Total Intracranial Volume\"], axis=0)\n",
    "selected_values"
   ]
  },
  {
   "cell_type": "code",
   "execution_count": null,
   "metadata": {},
   "outputs": [],
   "source": [
    "all_data = selected_values\n",
    "#all_data[all_data['subject']=='TABP079']"
   ]
  },
  {
   "cell_type": "code",
   "execution_count": null,
   "metadata": {},
   "outputs": [],
   "source": [
    "# Remover columna de ETIV\n",
    "all_data = all_data.drop(['Estimated Total Intracranial Volume'],axis=1)\n",
    "#all_data"
   ]
  },
  {
   "cell_type": "markdown",
   "metadata": {},
   "source": [
    "## Clinical data"
   ]
  },
  {
   "cell_type": "code",
   "execution_count": null,
   "metadata": {},
   "outputs": [],
   "source": [
    "clinical_file = 'data/clinical_data_prisma_VF.xlsx'\n",
    "clinical_data = pd.read_excel(clinical_file,'master')\n",
    "clinical_data"
   ]
  },
  {
   "cell_type": "code",
   "execution_count": null,
   "metadata": {},
   "outputs": [],
   "source": [
    "clinical_data = clinical_data.iloc[:, [9,0,2,3,4,5,6,7,8,15]]\n",
    "clinical_data.rename(columns = {'id_RM':'subject'}, inplace = True)\n",
    "#clinical_data"
   ]
  },
  {
   "cell_type": "code",
   "execution_count": null,
   "metadata": {},
   "outputs": [],
   "source": [
    "clinical_data"
   ]
  },
  {
   "cell_type": "markdown",
   "metadata": {},
   "source": [
    "## Edit file"
   ]
  },
  {
   "cell_type": "code",
   "execution_count": null,
   "metadata": {},
   "outputs": [],
   "source": [
    "pd.set_option('display.max_rows', None)\n",
    "\n",
    "#add same treatment in all times\n",
    "l=['Group','time','edad','gen','esc','dx','psc', 'Gravedad'] # column different from each row\n",
    "clinical_data_f = pd.concat([clinical_data.drop(l,1).groupby('subject').transform('first'),clinical_data[l],clinical_data[['subject']]],axis=1).reindex(columns=clinical_data.columns)\n",
    "\n",
    "clinical_data_f['project'] = 'prisma'+ clinical_data_f.time.astype(str)\n",
    "\n",
    "clinical_data_f.loc[clinical_data_f.Group == 'CTR', 'project'] = \"controles\"\n",
    "# Agregar condición\n",
    "#clinical_data_f['c_group'] = clinical_data_f['Group'] + '-' + clinical_data_f['project'] +'-' +'treatment' + clinical_data_f['treatment'].astype(str)\n",
    "clinical_data_f['c_group'] = clinical_data_f['Group'] + '-' + clinical_data_f['project'] "
   ]
  },
  {
   "cell_type": "code",
   "execution_count": null,
   "metadata": {},
   "outputs": [],
   "source": [
    "clinical_data_f"
   ]
  },
  {
   "cell_type": "markdown",
   "metadata": {},
   "source": [
    "## Merge both files"
   ]
  },
  {
   "cell_type": "code",
   "execution_count": null,
   "metadata": {},
   "outputs": [],
   "source": [
    "clinical_image_df= pd.merge(all_data, clinical_data_f[['subject','project','c_group','treatment','psc','dx','Gravedad','edad']], how='left', on=['subject', 'project'])\n",
    "\n",
    "#Remove data for TAB and diagnosis 2\n",
    "clinical_image_df.drop(clinical_image_df.index[(clinical_image_df.subject.str.contains('TAB'))&(clinical_image_df.dx==2)],inplace=True)\n",
    "\n",
    "# Remove subject with NAs in volumetric nan\n",
    "#clinical_image_df.drop(clinical_image_df.index[clinical_image_df.subject==\"TABP079\"],inplace=True)\n"
   ]
  },
  {
   "cell_type": "code",
   "execution_count": null,
   "metadata": {},
   "outputs": [],
   "source": [
    "#clinical_image_df"
   ]
  },
  {
   "cell_type": "code",
   "execution_count": null,
   "metadata": {},
   "outputs": [],
   "source": [
    "clinical_image_df[clinical_image_df['subject']=='TABP079']\n",
    "# Remove subject with NAs in volumetric and clinical data\n",
    "clinical_image_df.drop(clinical_image_df.index[clinical_image_df.subject==\"TABP079\"],inplace=True)"
   ]
  },
  {
   "cell_type": "markdown",
   "metadata": {},
   "source": [
    "### NORMALIZE BY GROUP"
   ]
  },
  {
   "cell_type": "markdown",
   "metadata": {},
   "source": [
    "## Standardscaler"
   ]
  },
  {
   "cell_type": "code",
   "execution_count": null,
   "metadata": {
    "scrolled": true
   },
   "outputs": [],
   "source": [
    "# Standardize features by removing the mean and scaling to unit variance\n",
    "clinical_image_df_n_CTR= clinical_image_df[clinical_image_df.grupo=='CTR']\n",
    "clinical_image_df_n_EQF= clinical_image_df[clinical_image_df.grupo=='EQF']\n",
    "clinical_image_df_n_TAB= clinical_image_df[clinical_image_df.grupo=='TAB']\n",
    "clinical_image_df_n_CTR.iloc[:,3:-6] = preprocessing.StandardScaler().fit_transform(clinical_image_df_n_CTR.iloc[:,3:-6])\n",
    "clinical_image_df_n_TAB.iloc[:,3:-6] = preprocessing.StandardScaler().fit_transform(clinical_image_df_n_TAB.iloc[:,3:-6])\n",
    "clinical_image_df_n_EQF.iloc[:,3:-6] = preprocessing.StandardScaler().fit_transform(clinical_image_df_n_EQF.iloc[:,3:-6])\n"
   ]
  },
  {
   "cell_type": "markdown",
   "metadata": {},
   "source": [
    "## Z-score by subject"
   ]
  },
  {
   "cell_type": "code",
   "execution_count": null,
   "metadata": {},
   "outputs": [],
   "source": [
    "# Normalización z-score por fila (sujeto)\n",
    "clinical_image_z = clinical_image_df\n",
    "clinical_image_z.iloc[:,3:-6] = clinical_image_z.iloc[:,3:-6].apply(zscore, axis=1) "
   ]
  },
  {
   "cell_type": "code",
   "execution_count": null,
   "metadata": {
    "scrolled": true
   },
   "outputs": [],
   "source": [
    "clinical_image_n = pd.concat([clinical_image_df_n_CTR,clinical_image_df_n_TAB,clinical_image_df_n_EQF])"
   ]
  },
  {
   "cell_type": "code",
   "execution_count": null,
   "metadata": {},
   "outputs": [],
   "source": [
    "clinical_image_i = clinical_image_z # Selección normalización por z-score\n",
    "#clinical_image_i = clinical_image_n # Selección normalización por grupo\n",
    "clinical_image_EQF = clinical_image_i[clinical_image_i.grupo!='TAB'] # Toma EQF y CTRL\n",
    "clinical_image_TAB = clinical_image_i[clinical_image_i.grupo!='EQF'] # Toma TAB y CTRL"
   ]
  },
  {
   "cell_type": "code",
   "execution_count": null,
   "metadata": {},
   "outputs": [],
   "source": [
    "# Formación datos EQF y TAB --> PSI\n",
    "clinical_image_i['grupo-p'] = ''\n",
    "clinical_image_i.loc[clinical_image_i.grupo.str.contains('TAB'), 'grupo-p'] = 'PSI'\n",
    "clinical_image_i.loc[clinical_image_i.grupo.str.contains('EQF'), 'grupo-p'] = 'PSI'\n",
    "clinical_image_i.loc[clinical_image_i.grupo.str.contains('CTR'), 'grupo-p'] = 'CTR'\n",
    "# Modificar condición\n",
    "#clinical_image_i['c_group'] = clinical_image_i['grupo'] + '-' + clinical_image_i['project'] +'-' +'treatment' + clinical_image_i['treatment'].astype(str)\n",
    "clinical_image_i['c_group'] = clinical_image_i['grupo-p'] + '-' + clinical_image_i['project'] + '-' + clinical_image_i['grupo']\n"
   ]
  },
  {
   "cell_type": "code",
   "execution_count": null,
   "metadata": {},
   "outputs": [],
   "source": [
    "all_data_sorted_EQF = clinical_image_EQF.sort_values('c_group', axis=0, ascending=True, inplace=False, kind='quicksort', na_position='last')\n",
    "\n",
    "count_groups_EQF = all_data_sorted_EQF.groupby(['c_group']).count()\n",
    "groups_dict_EQF = count_groups_EQF['subject'].to_dict()\n",
    "\n",
    "list_len_EQF = list(groups_dict_EQF.values())\n",
    "groups_EQF = list(groups_dict_EQF.keys())\n",
    "groups_dict_EQF"
   ]
  },
  {
   "cell_type": "code",
   "execution_count": null,
   "metadata": {},
   "outputs": [],
   "source": [
    "all_data_sorted_EQF = all_data_sorted_EQF.dropna(subset=['c_group'])\n",
    "#all_data_sorted_EQF"
   ]
  },
  {
   "cell_type": "code",
   "execution_count": null,
   "metadata": {},
   "outputs": [],
   "source": [
    "count_groups_EQF = all_data_sorted_EQF.groupby(['c_group']).count()\n",
    "groups_dict_EQF = count_groups_EQF['subject'].to_dict()\n",
    "\n",
    "list_len_EQF = list(groups_dict_EQF.values())\n",
    "groups_EQF = list(groups_dict_EQF.keys())\n",
    "groups_dict_EQF"
   ]
  },
  {
   "cell_type": "code",
   "execution_count": null,
   "metadata": {},
   "outputs": [],
   "source": [
    "all_data_sorted_TAB = clinical_image_TAB.sort_values('c_group', axis=0, ascending=True, inplace=False, kind='quicksort', na_position='last')\n",
    "\n",
    "count_groups_TAB = all_data_sorted_TAB.groupby(['c_group']).count()\n",
    "groups_dict_TAB = count_groups_TAB['subject'].to_dict()\n",
    "\n",
    "list_len_TAB = list(groups_dict_TAB.values())\n",
    "groups_TAB = list(groups_dict_TAB.keys())\n",
    "groups_dict_TAB"
   ]
  },
  {
   "cell_type": "code",
   "execution_count": null,
   "metadata": {},
   "outputs": [],
   "source": [
    "all_data_sorted_TAB = all_data_sorted_TAB.dropna(subset=['c_group'])\n",
    "#all_data_sorted_TAB"
   ]
  },
  {
   "cell_type": "code",
   "execution_count": null,
   "metadata": {},
   "outputs": [],
   "source": [
    "count_groups_TAB = all_data_sorted_TAB.groupby(['c_group']).count()\n",
    "groups_dict_TAB = count_groups_TAB['subject'].to_dict()\n",
    "\n",
    "list_len_TAB = list(groups_dict_TAB.values())\n",
    "groups_TAB = list(groups_dict_TAB.keys())\n",
    "groups_dict_TAB"
   ]
  },
  {
   "cell_type": "code",
   "execution_count": null,
   "metadata": {},
   "outputs": [],
   "source": [
    "all_data_sorted_PSI = clinical_image_i.sort_values('c_group', axis=0, ascending=True, inplace=False, kind='quicksort', na_position='last')\n",
    "\n",
    "count_groups_PSI = all_data_sorted_PSI.groupby(['c_group']).count()\n",
    "groups_dict_PSI = count_groups_PSI['subject'].to_dict()\n",
    "\n",
    "list_len_PSI = list(groups_dict_PSI.values())\n",
    "groups_PSI = list(groups_dict_PSI.keys())\n",
    "groups_dict_PSI"
   ]
  },
  {
   "cell_type": "code",
   "execution_count": null,
   "metadata": {},
   "outputs": [],
   "source": [
    "all_data_sorted_PSI = all_data_sorted_PSI.dropna(subset=['c_group'])\n",
    "count_groups_PSI= all_data_sorted_PSI.groupby(['c_group']).count()\n",
    "groups_dict_PSI = count_groups_PSI['subject'].to_dict()\n",
    "\n",
    "list_len_PSI = list(groups_dict_PSI.values())\n",
    "groups_PSI = list(groups_dict_PSI.keys())\n",
    "groups_dict_PSI"
   ]
  },
  {
   "cell_type": "markdown",
   "metadata": {},
   "source": [
    "## PLS WITH CLINICAL GROUPS"
   ]
  },
  {
   "cell_type": "code",
   "execution_count": null,
   "metadata": {
    "scrolled": true
   },
   "outputs": [],
   "source": [
    "X_EQF = all_data_sorted_EQF.iloc[:,3:-6].values\n",
    "X_TAB = all_data_sorted_TAB.iloc[:,3:-6].values\n",
    "X_PSI = all_data_sorted_PSI.iloc[:,3:-7].values"
   ]
  },
  {
   "cell_type": "code",
   "execution_count": null,
   "metadata": {},
   "outputs": [],
   "source": [
    "random_state=42\n",
    "pls_EQF = pyls.meancentered_pls(X_EQF, groups=list_len_EQF, seed=42, mean_centering=1, n_proc='max')"
   ]
  },
  {
   "cell_type": "code",
   "execution_count": null,
   "metadata": {},
   "outputs": [],
   "source": [
    "#with open('pls_V_EQF_n.pkl', 'wb') as f:\n",
    "with open('pls_EQF.pkl', 'wb') as f:\n",
    "    pickle.dump(pls_EQF, f)"
   ]
  },
  {
   "cell_type": "code",
   "execution_count": null,
   "metadata": {},
   "outputs": [],
   "source": [
    "with open(\"pls_EQF.pkl\", \"rb\") as input_file:\n",
    "    pls_EQF = pickle.load(input_file)"
   ]
  },
  {
   "cell_type": "code",
   "execution_count": null,
   "metadata": {},
   "outputs": [],
   "source": [
    "pls_TAB = pyls.meancentered_pls(X_TAB, groups=list_len_TAB, mean_centering=1, seed=42, n_proc='max')"
   ]
  },
  {
   "cell_type": "code",
   "execution_count": null,
   "metadata": {},
   "outputs": [],
   "source": [
    "with open('pls_TAB.pkl', 'wb') as f:\n",
    "    pickle.dump(pls_TAB, f)"
   ]
  },
  {
   "cell_type": "code",
   "execution_count": null,
   "metadata": {},
   "outputs": [],
   "source": [
    "with open(\"pls_TAB.pkl\", \"rb\") as input_file:\n",
    "    pls_TAB = pickle.load(input_file)"
   ]
  },
  {
   "cell_type": "code",
   "execution_count": null,
   "metadata": {},
   "outputs": [],
   "source": [
    "pls_PSI = pyls.meancentered_pls(X_PSI, groups=list_len_PSI, seed=42, mean_centering=1, n_proc='max')"
   ]
  },
  {
   "cell_type": "code",
   "execution_count": null,
   "metadata": {},
   "outputs": [],
   "source": [
    "# Significancia PLS grupos EQF y CTRL, tiempo y tratamiento\n",
    "pvals_EQF = pls_EQF.permres['pvals']\n",
    "x_weights_EQF = pls_EQF.bootres.x_weights_normed \n",
    "y_weights_EQF = pls_EQF.y_weights\n",
    "pvals_EQF"
   ]
  },
  {
   "cell_type": "code",
   "execution_count": null,
   "metadata": {},
   "outputs": [],
   "source": [
    "# Significancia grupos TAB y CTRL, tiempo y tratamiento\n",
    "pvals_TAB = pls_TAB.permres['pvals']\n",
    "x_weights_TAB = pls_TAB.bootres.x_weights_normed\n",
    "y_weights_TAB = pls_TAB.y_weights\n",
    "pvals_TAB"
   ]
  },
  {
   "cell_type": "code",
   "execution_count": null,
   "metadata": {},
   "outputs": [],
   "source": [
    "# Significancia grupos EQF+TAB y CTRL, tiempo y tratamiento\n",
    "pvals_PSI = pls_PSI.permres['pvals']\n",
    "x_weights_PSI = pls_PSI.bootres.x_weights_normed\n",
    "y_weights_PSI = pls_PSI.y_weights\n",
    "pvals_PSI"
   ]
  },
  {
   "cell_type": "code",
   "execution_count": null,
   "metadata": {},
   "outputs": [],
   "source": [
    "def get_pos(n_col, init=-0.3, inte=0.6):\n",
    "    pos = []\n",
    "    for i in range(n_col):\n",
    "        x = init \n",
    "        init = round(x + inte, 1)\n",
    "        pos.append(x)\n",
    "    return pos\n",
    "\n",
    "def errplot(x,y, yerr, **kwargs):\n",
    "    data = kwargs.pop(\"data\")\n",
    "    plt.errorbar(x=x,y=data[y],yerr=data[yerr],fmt='none', c= 'k')"
   ]
  },
  {
   "cell_type": "code",
   "execution_count": null,
   "metadata": {},
   "outputs": [],
   "source": [
    "# Incluyendo tratamiento\n",
    "#y_loadings_df_EQF = pd.DataFrame({'1': y_weights_EQF[:,0], '2': y_weights_EQF[:,1], 'condition': groups_EQF,\n",
    "#                                  'tratamiento': [group.split(\"-\")[2] for group in groups_EQF] , 'time': [group.split(\"-\")[1] for group in groups_EQF]})\n",
    "\n",
    "#y_loadings_m_EQF = pd.melt(y_loadings_df_EQF,id_vars=['condition','tratamiento','time'],value_name='weight', var_name = 'salvar_id')\n",
    "\n",
    "# Sin tratamiento\n",
    "y_loadings_df_EQF = pd.DataFrame({'1': y_weights_EQF[:,0], '2': y_weights_EQF[:,1], 'condition': groups_EQF,\n",
    "                                  'time': [group.split(\"-\")[1] for group in groups_EQF]})\n",
    "\n",
    "y_loadings_m_EQF = pd.melt(y_loadings_df_EQF,id_vars=['condition','time'],value_name='weight', var_name = 'salvar_id')\n",
    "\n",
    "y_loadings_m_EQF['ci_l'] = np.concatenate([pls_EQF.bootres.contrast_ci[:,0,0], pls_EQF.bootres.contrast_ci[:,1,0]])\n",
    "y_loadings_m_EQF['ci_u'] = np.concatenate([pls_EQF.bootres.contrast_ci[:,0,1], pls_EQF.bootres.contrast_ci[:,1,1]])\n",
    "\n",
    "y_loadings_m_EQF['ci_l_p'] = y_loadings_m_EQF['weight'] - y_loadings_m_EQF['ci_l']\n",
    "y_loadings_m_EQF['ci_u_p'] = y_loadings_m_EQF['weight'] - y_loadings_m_EQF['ci_u']\n",
    "y_loadings_m_EQF['err'] = (y_loadings_m_EQF['ci_u'] - y_loadings_m_EQF['ci_l'])/2"
   ]
  },
  {
   "cell_type": "code",
   "execution_count": null,
   "metadata": {},
   "outputs": [],
   "source": [
    "y_loadings_m_EQF"
   ]
  },
  {
   "cell_type": "code",
   "execution_count": null,
   "metadata": {},
   "outputs": [],
   "source": [
    "#y_loadings_df_TAB = pd.DataFrame({'1': y_weights_TAB[:,0], '2': y_weights_TAB[:,1], 'condition': groups_TAB,\n",
    "#                                 'tratamiento': [group.split(\"-\")[2] for group in groups_TAB] , 'time': [group.split(\"-\")[1] for group in groups_TAB]})\n",
    "#y_loadings_m_TAB = pd.melt(y_loadings_df_TAB,id_vars=['condition','tratamiento','time'],value_name='weight', var_name = 'salvar_id')\n",
    "\n",
    "y_loadings_df_TAB = pd.DataFrame({'1': y_weights_TAB[:,0], '2': y_weights_TAB[:,1], 'condition': groups_TAB,\n",
    "                                  'time': [group.split(\"-\")[1] for group in groups_TAB]})\n",
    "y_loadings_m_TAB = pd.melt(y_loadings_df_TAB,id_vars=['condition','time'],value_name='weight', var_name = 'salvar_id')\n",
    "\n",
    "y_loadings_m_TAB['ci_l'] = np.concatenate([pls_TAB.bootres.contrast_ci[:,0,0], pls_TAB.bootres.contrast_ci[:,1,0]])\n",
    "y_loadings_m_TAB['ci_u'] = np.concatenate([pls_TAB.bootres.contrast_ci[:,0,1], pls_TAB.bootres.contrast_ci[:,1,1]])\n",
    "\n",
    "y_loadings_m_TAB['ci_l_p'] = y_loadings_m_TAB['weight'] - y_loadings_m_TAB['ci_l']\n",
    "y_loadings_m_TAB['ci_u_p'] = y_loadings_m_TAB['weight'] - y_loadings_m_TAB['ci_u']\n",
    "y_loadings_m_TAB['err'] = (y_loadings_m_TAB['ci_u'] - y_loadings_m_TAB['ci_l'])/2"
   ]
  },
  {
   "cell_type": "code",
   "execution_count": null,
   "metadata": {},
   "outputs": [],
   "source": [
    "y_loadings_df_PSI = pd.DataFrame({'1': y_weights_PSI[:,0], '2': y_weights_PSI[:,1], 'condition': groups_PSI,\n",
    "                                  'enfermedad': [group.split(\"-\")[2] for group in groups_PSI] , 'time': [group.split(\"-\")[1] for group in groups_PSI]})\n",
    "\n",
    "y_loadings_m_PSI = pd.melt(y_loadings_df_PSI,id_vars=['condition','enfermedad','time'],value_name='weight', var_name = 'salvar_id')\n",
    "\n",
    "#y_loadings_df_PSI = pd.DataFrame({'1': y_weights_PSI[:,0], '2': y_weights_PSI[:,1], 'condition': groups_PSI,\n",
    "#                                  'time': [group.split(\"-\")[1] for group in groups_PSI]})\n",
    "\n",
    "#y_loadings_m_PSI = pd.melt(y_loadings_df_PSI,id_vars=['condition','time'],value_name='weight', var_name = 'salvar_id')\n",
    "\n",
    "y_loadings_m_PSI['ci_l'] = np.concatenate([pls_PSI.bootres.contrast_ci[:,0,0], pls_PSI.bootres.contrast_ci[:,1,0]])\n",
    "y_loadings_m_PSI['ci_u'] = np.concatenate([pls_PSI.bootres.contrast_ci[:,0,1], pls_PSI.bootres.contrast_ci[:,1,1]])\n",
    "\n",
    "y_loadings_m_PSI['ci_l_p'] = y_loadings_m_PSI['weight'] - y_loadings_m_PSI['ci_l']\n",
    "y_loadings_m_PSI['ci_u_p'] = y_loadings_m_PSI['weight'] - y_loadings_m_PSI['ci_u']\n",
    "y_loadings_m_PSI['err'] = (y_loadings_m_PSI['ci_u'] - y_loadings_m_PSI['ci_l'])/2"
   ]
  },
  {
   "cell_type": "code",
   "execution_count": null,
   "metadata": {},
   "outputs": [],
   "source": [
    "y_loadings_m_PSI"
   ]
  },
  {
   "cell_type": "code",
   "execution_count": null,
   "metadata": {
    "scrolled": true
   },
   "outputs": [],
   "source": [
    "#g = sns.catplot(x=\"time\", y=\"weight\", kind=\"bar\", col=\"salvar_id\", ci=None, aspect=1.2, hue=\"tratamiento\",data=y_loadings_m_TAB)\n",
    "\n",
    "g = sns.catplot(x=\"time\", y=\"weight\", kind=\"bar\", col=\"salvar_id\", ci=None, aspect=1.2, data=y_loadings_m_TAB)\n",
    "\n",
    "#g.map_dataframe(errplot,  [-0.26,1,1.26,2,2.26], \"weight\", \"err\")\n",
    "g.map_dataframe(errplot,  [0,1,2], \"weight\", \"err\")\n",
    "plt.suptitle('PLS Mean centered TAB')\n",
    "g.set_xlabels('')\n"
   ]
  },
  {
   "cell_type": "code",
   "execution_count": null,
   "metadata": {},
   "outputs": [],
   "source": [
    "#g = sns.catplot(x=\"time\", y=\"weight\", kind=\"bar\", col=\"salvar_id\", ci=None, aspect=1.2, hue=\"tratamiento\",data=y_loadings_m_EQF)\n",
    "#g.map_dataframe(errplot, [-0.26,1,1.26,2,2.26], \"weight\", \"err\")\n",
    "\n",
    "g = sns.catplot(x=\"time\", y=\"weight\", kind=\"bar\", col=\"salvar_id\", ci=None, aspect=1.2,data=y_loadings_m_EQF)\n",
    "g.map_dataframe(errplot, [0,1,2], \"weight\", \"err\")\n",
    "\n",
    "plt.suptitle('PLS Mean centered EQF')\n",
    "g.set_xlabels('')\n"
   ]
  },
  {
   "cell_type": "code",
   "execution_count": null,
   "metadata": {},
   "outputs": [],
   "source": [
    "g = sns.catplot(x=\"time\", y=\"weight\", kind=\"bar\", col=\"salvar_id\", ci=None, aspect=1.2, hue=\"enfermedad\",data=y_loadings_m_PSI)\n",
    "g.map_dataframe(errplot, [-0.26,1,1.26,2,2.26], \"weight\", \"err\")\n",
    "\n",
    "#g = sns.catplot(x=\"time\", y=\"weight\", kind=\"bar\", col=\"salvar_id\", ci=None, aspect=1.2,data=y_loadings_m_PSI)\n",
    "#g.map_dataframe(errplot, [0,1,2], \"weight\", \"err\")\n",
    "\n",
    "plt.suptitle('PLS Mean centered EQF+TAB')\n",
    "g.set_xlabels('')\n"
   ]
  },
  {
   "cell_type": "code",
   "execution_count": null,
   "metadata": {},
   "outputs": [],
   "source": [
    "pls_EQF.permres.pvals"
   ]
  },
  {
   "cell_type": "code",
   "execution_count": null,
   "metadata": {},
   "outputs": [],
   "source": [
    "pls_EQF.varexp"
   ]
  },
  {
   "cell_type": "code",
   "execution_count": null,
   "metadata": {},
   "outputs": [],
   "source": [
    "pls_TAB.permres.pvals"
   ]
  },
  {
   "cell_type": "code",
   "execution_count": null,
   "metadata": {},
   "outputs": [],
   "source": [
    "pls_TAB.varexp"
   ]
  },
  {
   "cell_type": "code",
   "execution_count": null,
   "metadata": {},
   "outputs": [],
   "source": [
    "pls_PSI.permres.pvals"
   ]
  },
  {
   "cell_type": "code",
   "execution_count": null,
   "metadata": {},
   "outputs": [],
   "source": [
    "pls_PSI.varexp"
   ]
  },
  {
   "cell_type": "code",
   "execution_count": null,
   "metadata": {},
   "outputs": [],
   "source": [
    "print(pls_PSI.bootres.x_weights_normed.min(), pls_PSI.bootres.x_weights_normed.max())"
   ]
  },
  {
   "cell_type": "markdown",
   "metadata": {},
   "source": [
    "Gráficos de dispersión"
   ]
  },
  {
   "cell_type": "code",
   "execution_count": null,
   "metadata": {},
   "outputs": [],
   "source": [
    "score_EQF = pd.DataFrame()\n",
    "score_EQF['subject'] = all_data_sorted_EQF['subject']\n",
    "score_EQF['grupo'] = all_data_sorted_EQF['grupo']\n",
    "score_EQF['subject'] = all_data_sorted_EQF['subject']\n",
    "score_EQF['project'] = all_data_sorted_EQF['project']\n",
    "score_EQF['treatment'] = all_data_sorted_EQF['treatment']\n",
    "score_EQF['psc'] = all_data_sorted_EQF['psc'].where(pd.notnull(all_data_sorted_EQF['psc']), -1).astype(int)\n",
    "score_EQF['Gravedad'] = all_data_sorted_EQF['Gravedad']\n",
    "score_EQF['x_score_1']=pls_EQF.x_scores[:,0]\n",
    "score_EQF['y_score_1']=pls_EQF.y_scores[:,0]\n",
    "score_EQF['x_score_2']=pls_EQF.x_scores[:,1]\n",
    "score_EQF['y_score_2']=pls_EQF.y_scores[:,1]\n",
    "\n",
    "score_TAB = pd.DataFrame()\n",
    "score_TAB['subject'] = all_data_sorted_TAB['subject']\n",
    "score_TAB['grupo'] = all_data_sorted_TAB['grupo']\n",
    "score_TAB['subject'] = all_data_sorted_TAB['subject']\n",
    "score_TAB['project'] = all_data_sorted_TAB['project']\n",
    "score_TAB['treatment'] = all_data_sorted_TAB['treatment']\n",
    "score_TAB['psc'] = all_data_sorted_TAB['psc'].where(pd.notnull(all_data_sorted_TAB['psc']), -1).astype(int)\n",
    "score_TAB['Gravedad'] = all_data_sorted_TAB['Gravedad']\n",
    "score_TAB['x_score_1']=pls_TAB.x_scores[:,0]\n",
    "score_TAB['y_score_1']=pls_TAB.y_scores[:,0]\n",
    "score_TAB['x_score_2']=pls_TAB.x_scores[:,1]\n",
    "score_TAB['y_score_2']=pls_TAB.y_scores[:,1]"
   ]
  },
  {
   "cell_type": "code",
   "execution_count": null,
   "metadata": {},
   "outputs": [],
   "source": [
    "score_PSI = pd.DataFrame()\n",
    "score_PSI['subject'] = all_data_sorted_PSI['subject']\n",
    "score_PSI['grupo'] = all_data_sorted_PSI['grupo']\n",
    "score_PSI['grupo-p'] = all_data_sorted_PSI['grupo-p']\n",
    "score_PSI['edad'] = all_data_sorted_PSI['edad']\n",
    "score_PSI['project'] = all_data_sorted_PSI['project']\n",
    "score_PSI['treatment'] = all_data_sorted_PSI['treatment']\n",
    "score_PSI['psc'] = all_data_sorted_PSI['psc'].where(pd.notnull(all_data_sorted_PSI['psc']), -1).astype(int)\n",
    "score_PSI['Gravedad'] = all_data_sorted_PSI['Gravedad']\n",
    "score_PSI['x_score_1']=pls_PSI.x_scores[:,0]\n",
    "score_PSI['y_score_1']=pls_PSI.y_scores[:,0]\n",
    "score_PSI['x_score_2']=pls_PSI.x_scores[:,1]\n",
    "score_PSI['y_score_2']=pls_PSI.y_scores[:,1]"
   ]
  },
  {
   "cell_type": "code",
   "execution_count": null,
   "metadata": {},
   "outputs": [],
   "source": [
    "score_PSI"
   ]
  },
  {
   "cell_type": "code",
   "execution_count": null,
   "metadata": {},
   "outputs": [],
   "source": [
    "#color = {0: 'w', 1: 'k', 100: 'r'}\n",
    "color = {0: 'w', 1: 'k', -1: 'r'}\n",
    "#color = {'controles':'w','prisma1': 'w','prisma3':'k'}\n",
    "le = LabelEncoder()\n",
    "subject_n = pd.factorize(score_TAB.apply(lambda x: 'CTRL' if 'CTRL' in x['subject'] else x['subject'], axis=1))[0]\n",
    "score_TAB['subject_color'] = le.fit_transform(subject_n)\n",
    "score_TAB['edge_color'] = score_TAB.apply(lambda x: color[x['psc']], axis=1)\n",
    "#score_TAB['line_width'] = score_TAB.apply(lambda x: line[x['psc']], axis=1)\n",
    "\n",
    "lee = LabelEncoder()\n",
    "subject_n = pd.factorize(score_EQF.apply(lambda x: 'CTRL' if 'CTRL' in x['subject'] else x['subject'], axis=1))[0]\n",
    "score_EQF['subject_color'] = lee.fit_transform(subject_n)\n",
    "score_EQF['edge_color'] = score_EQF.apply(lambda x: color[x['psc']], axis=1)\n",
    "#score_TAB['line_width'] = score_TAB.apply(lambda x: line[x['psc']], axis=1)"
   ]
  },
  {
   "cell_type": "code",
   "execution_count": null,
   "metadata": {},
   "outputs": [],
   "source": [
    "color = {0: 'w', 1: 'k', -1: 'r'}\n",
    "lep = LabelEncoder()\n",
    "subject_n = pd.factorize(score_PSI.apply(lambda x: 'CTRL' if 'CTRL' in x['subject'] else x['subject'], axis=1))[0]\n",
    "score_PSI['subject_color'] = lep.fit_transform(subject_n)\n",
    "score_PSI['edge_color'] = score_PSI.apply(lambda x: color[x['psc']], axis=1)\n",
    "#score_TAB['line_width'] = score_TAB.apply(lambda x: line[x['psc']], axis=1)"
   ]
  },
  {
   "cell_type": "code",
   "execution_count": null,
   "metadata": {},
   "outputs": [],
   "source": [
    "sns.set(rc={'figure.figsize':(11,8)})\n",
    "g=sns.scatterplot(x=\"x_score_1\", y=\"y_score_1\",\n",
    "                  hue=\"subject_color\", style=\"project\", size='treatment',sizes=[16,64,236],\n",
    "                  palette='tab20',data=score_EQF,edgecolor=score_EQF[\"edge_color\"],linewidth=1)\n",
    "current_handles, current_labels = g.get_legend_handles_labels()\n",
    "selected_handles = current_handles[61:]\n",
    "selected_labels = current_labels[61:]\n",
    "plt.legend(selected_handles,selected_labels)\n",
    "plt.title(\"X SCORE VS Y SCORE LV 1 EQF\")\n",
    "plt.show()"
   ]
  },
  {
   "cell_type": "code",
   "execution_count": null,
   "metadata": {},
   "outputs": [],
   "source": [
    "# Gráfico variable latente 1 vs variable latente 2\n",
    "sns.set(rc={'figure.figsize':(11,8)})\n",
    "        \n",
    "g=sns.scatterplot(x=\"x_score_1\", y=\"x_score_2\",\n",
    "                  hue=\"subject_color\", style=\"project\", size='treatment',sizes=[16,128,236],legend=True,\n",
    "                  palette='tab20',data=score_EQF,edgecolor=score_EQF[\"edge_color\"],linewidth=1)\n",
    "\n",
    "\n",
    "current_handles, current_labels = g.get_legend_handles_labels()\n",
    "selected_handles = current_handles[61:]\n",
    "selected_labels = current_labels[61:]\n",
    "plt.legend(selected_handles,selected_labels)\n",
    "plt.title(\"X SCORE LV1 VS X SCORE LV2 EQF\")\n",
    "plt.show()"
   ]
  },
  {
   "cell_type": "code",
   "execution_count": null,
   "metadata": {},
   "outputs": [],
   "source": [
    "# Gráfico variable latente 1 vs gravedad\n",
    "score_EQF_na = score_EQF.dropna(subset=['Gravedad'])\n",
    "g=sns.scatterplot(x=\"x_score_1\", y=\"Gravedad\",\n",
    "                 hue=\"subject_color\", style=\"project\", size='treatment',sizes=[16,128,236],\n",
    "                palette='tab20',data=score_EQF_na,edgecolor=score_EQF_na[\"edge_color\"],linewidth=1)\n",
    "current_handles, current_labels = g.get_legend_handles_labels()\n",
    "selected_handles = current_handles[60:]\n",
    "selected_labels = current_labels[60:]\n",
    "plt.legend(selected_handles,selected_labels)\n",
    "plt.title(\"X SCORE LV1 VS Gravedad EQF\")\n",
    "plt.show()"
   ]
  },
  {
   "cell_type": "code",
   "execution_count": null,
   "metadata": {},
   "outputs": [],
   "source": [
    "g=sns.scatterplot(x=\"x_score_1\", y=\"y_score_1\",\n",
    "                 hue=\"subject_color\", style=\"project\", size='treatment',sizes=[16,64,236],\n",
    "                palette='tab20',data=score_TAB,edgecolor=score_TAB[\"edge_color\"],linewidth=1)\n",
    "current_handles, current_labels = g.get_legend_handles_labels()\n",
    "selected_handles = current_handles[83:]\n",
    "selected_labels = current_labels[83:]\n",
    "plt.legend(selected_handles,selected_labels)\n",
    "plt.title(\"X SCORE VS Y SCORE LV 1 TAB\")\n",
    "plt.show()"
   ]
  },
  {
   "cell_type": "code",
   "execution_count": null,
   "metadata": {},
   "outputs": [],
   "source": [
    "#sns.set(rc={'figure.figsize':(11,8)})\n",
    "g= sns.scatterplot(x=\"x_score_1\", y=\"x_score_2\",\n",
    "                hue=\"subject_color\", style=\"project\", size='treatment',sizes=[16,128,236],legend=True,\n",
    "                palette='tab20',data=score_TAB,edgecolor=score_TAB[\"edge_color\"],linewidth=1)\n",
    "\n",
    "current_handles, current_labels = g.get_legend_handles_labels()\n",
    "selected_handles = current_handles[83:]\n",
    "selected_labels = current_labels[83:]\n",
    "plt.legend(selected_handles,selected_labels)\n",
    "plt.title(\"X SCORE LV1 VS X SCORE LV2 TAB\")\n",
    "plt.show()\n"
   ]
  },
  {
   "cell_type": "code",
   "execution_count": null,
   "metadata": {},
   "outputs": [],
   "source": [
    "score_TAB_na = score_TAB.dropna(subset=['Gravedad'])\n",
    "markers = {0.0: \"X\", 1.0: \"o\",2.0:\"s\"}\n",
    "g=sns.scatterplot(x=\"x_score_1\", y=\"Gravedad\",\n",
    "                  hue=\"subject_color\", style=\"project\", size='treatment',sizes=[16,128,236],\n",
    "                  palette='tab20',data=score_TAB,edgecolor=score_TAB[\"edge_color\"],linewidth=1)\n",
    "current_handles, current_labels = g.get_legend_handles_labels()\n",
    "selected_handles = current_handles[83:]\n",
    "selected_labels = current_labels[83:]\n",
    "plt.legend(selected_handles,selected_labels)\n",
    "plt.title(\"X SCORE LV1 VS Gravedad TAB\")\n",
    "plt.show()"
   ]
  },
  {
   "cell_type": "code",
   "execution_count": null,
   "metadata": {},
   "outputs": [],
   "source": [
    "sns.set(rc={'figure.figsize':(11,8)})\n",
    "g=sns.scatterplot(x=\"x_score_1\", y=\"y_score_1\",\n",
    "                  hue=\"subject_color\", style=\"project\", size='treatment',sizes=[16,64,236],\n",
    "                  palette='tab20',data=score_PSI,edgecolor=score_PSI[\"edge_color\"],linewidth=1)\n",
    "current_handles, current_labels = g.get_legend_handles_labels()\n",
    "selected_handles = current_handles[147:]\n",
    "selected_labels = current_labels[147:]\n",
    "plt.legend(selected_handles,selected_labels)\n",
    "plt.title(\"X SCORE VS Y SCORE LV 1 EQF+TAB\")\n",
    "plt.show()"
   ]
  },
  {
   "cell_type": "code",
   "execution_count": null,
   "metadata": {},
   "outputs": [],
   "source": [
    "sns.set(rc={'figure.figsize':(11,8)})\n",
    "g=sns.scatterplot(x=\"x_score_1\", y=\"y_score_1\",\n",
    "                  hue=\"grupo\", style=\"project\", size='treatment',sizes=[16,64,236],\n",
    "                  palette='tab20',data=score_PSI,edgecolor=score_PSI[\"edge_color\"],linewidth=1)\n",
    "#current_handles, current_labels = g.get_legend_handles_labels()\n",
    "#selected_handles = current_handles[146:]\n",
    "#selected_labels = current_labels[146:]\n",
    "#plt.legend(selected_handles,selected_labels)\n",
    "plt.title(\"X SCORE VS Y SCORE LV 1 EQF+TAB\")\n",
    "plt.show()"
   ]
  },
  {
   "cell_type": "code",
   "execution_count": null,
   "metadata": {},
   "outputs": [],
   "source": [
    "sns.set(rc={'figure.figsize':(11,8)})\n",
    "g=sns.scatterplot(x=\"x_score_1\", y=\"x_score_2\",\n",
    "                 hue=\"subject_color\", style=\"project\", size='treatment',sizes=[16,128,236],legend=True,\n",
    "                palette='tab20',data=score_PSI,edgecolor=score_PSI[\"edge_color\"],linewidth=1)\n",
    "current_handles, current_labels = g.get_legend_handles_labels()\n",
    "selected_handles = current_handles[147:]\n",
    "selected_labels = current_labels[147:]\n",
    "plt.legend(selected_handles,selected_labels)\n",
    "plt.title(\"X SCORE LV1 VS X SCORE LV2 EQF+TAB\")\n",
    "plt.show()"
   ]
  },
  {
   "cell_type": "code",
   "execution_count": null,
   "metadata": {},
   "outputs": [],
   "source": [
    "sizes = {'CTR': 128, 'EQF':236 ,'TAB':236}\n",
    "score_PSI['grupo-size'] = score_PSI.apply(lambda x: sizes[x['grupo']], axis=1)\n",
    "#score_TAB['line_width'] = score_TAB.apply(lambda x: line[x['psc']], axis=1)\n",
    "score_PSI"
   ]
  },
  {
   "cell_type": "code",
   "execution_count": null,
   "metadata": {},
   "outputs": [],
   "source": [
    "g=sns.scatterplot(x=\"x_score_1\", y=\"x_score_2\", size=score_PSI['grupo-size'],\n",
    "                  hue=\"grupo\", style=\"project\",legend=True,\n",
    "                  data=score_PSI,edgecolor=score_PSI[\"edge_color\"],linewidth=1)\n",
    "\n",
    "current_handles, current_labels = g.get_legend_handles_labels()\n",
    "selected_handles = current_handles[0:4]\n",
    "selected_handles.extend(current_handles[7:11])\n",
    "selected_labels = current_labels[0:4]\n",
    "selected_labels.extend(current_labels[7:11])\n",
    "plt.legend(selected_handles,selected_labels)\n",
    "plt.title(\"X SCORE LV1 VS X SCORE LV2 EQF+TAB\")\n",
    "plt.show()"
   ]
  },
  {
   "cell_type": "code",
   "execution_count": null,
   "metadata": {},
   "outputs": [],
   "source": [
    "score_PSI_na = score_PSI.dropna(subset=['Gravedad'])\n",
    "#g=sns.scatterplot(x=\"x_score_1\", y=\"Gravedad\",\n",
    "#                 hue=\"subject_color\", style=\"project\", size='treatment',sizes=[16,128,236],\n",
    "#                palette='tab20',data=score_PSI_na,edgecolor=score_PSI_na[\"edge_color\"],linewidth=1)\n",
    "g=sns.scatterplot(x=\"x_score_1\", y=\"Gravedad\", size=score_PSI['grupo-size'],\n",
    "                  hue=\"grupo\", style=\"project\",legend=True,\n",
    "                  data=score_PSI,edgecolor=score_PSI[\"edge_color\"],linewidth=1)\n",
    "current_handles, current_labels = g.get_legend_handles_labels()\n",
    "selected_handles = current_handles[0:4]\n",
    "selected_handles.extend(current_handles[7:11])\n",
    "selected_labels = current_labels[0:4]\n",
    "selected_labels.extend(current_labels[7:11])\n",
    "plt.legend(selected_handles,selected_labels)\n",
    "plt.title(\"X SCORE LV1 VS Gravedad EQF+TAB\")\n",
    "plt.show()"
   ]
  },
  {
   "cell_type": "code",
   "execution_count": null,
   "metadata": {},
   "outputs": [],
   "source": [
    "sns.set(rc={'figure.figsize':(11,8)})\n",
    "g=sns.scatterplot(x=\"x_score_1\", y=\"psc\", size=score_PSI['grupo-size'],\n",
    "                  hue=\"grupo\", style=\"project\",legend=True,\n",
    "                  data=score_PSI,linewidth=1)\n",
    "current_handles, current_labels = g.get_legend_handles_labels()\n",
    "selected_handles = current_handles[0:4]\n",
    "selected_handles.extend(current_handles[7:11])\n",
    "selected_labels = current_labels[0:4]\n",
    "selected_labels.extend(current_labels[7:11])\n",
    "plt.legend(selected_handles,selected_labels)\n",
    "plt.title(\"X SCORE LV1 VS Psicosis EQF+TAB\")\n",
    "plt.show()"
   ]
  },
  {
   "cell_type": "code",
   "execution_count": null,
   "metadata": {},
   "outputs": [],
   "source": [
    "sns.set(rc={'figure.figsize':(11,8)})\n",
    "g=sns.scatterplot(x=\"x_score_1\", y=\"edad\", size=score_PSI['grupo-size'],\n",
    "                  hue=\"grupo\", style=\"project\",legend=True,\n",
    "                  data=score_PSI,edgecolor=score_PSI[\"edge_color\"],linewidth=1)\n",
    "current_handles, current_labels = g.get_legend_handles_labels()\n",
    "selected_handles = current_handles[0:4]\n",
    "selected_handles.extend(current_handles[7:11])\n",
    "selected_labels = current_labels[0:4]\n",
    "selected_labels.extend(current_labels[7:11])\n",
    "plt.legend(selected_handles,selected_labels)\n",
    "plt.title(\"X SCORE LV1 VS Edad EQF+TAB\")\n",
    "plt.show()"
   ]
  },
  {
   "cell_type": "markdown",
   "metadata": {},
   "source": [
    "## X Weights"
   ]
  },
  {
   "cell_type": "code",
   "execution_count": null,
   "metadata": {},
   "outputs": [],
   "source": [
    "yeo_pal = {'Vis': (0.47058823529411764, 0.07058823529411765, 0.5254901960784314),\n",
    " 'SomMot': (0.27450980392156865, 0.5098039215686274, 0.7058823529411765),\n",
    " 'DorsAttn': (0.0, 0.4627450980392157, 0.054901960784313725),\n",
    " 'SalVentAttn': (0.7686274509803922, 0.22745098039215686, 0.9803921568627451),\n",
    " 'Limbic': (0.8627450980392157, 0.9725490196078431, 0.6431372549019608),\n",
    " 'Cont': (0.9019607843137255, 0.5803921568627451, 0.13333333333333333),\n",
    " 'Default': (0.803921568627451, 0.24313725490196078, 0.3058823529411765),\n",
    " 'None': (0.7, 0.7, 0.7, 0.5),\n",
    " 'TempPar': 'blue'}"
   ]
  },
  {
   "cell_type": "code",
   "execution_count": null,
   "metadata": {},
   "outputs": [],
   "source": [
    "EQF_data = all_data_sorted_EQF.iloc[:,3:-6] # Selecciona sólo los datos de volúmenes \n",
    "networks7_order = pd.read_csv('Schaefer2018_400Parcels_17Networks_order.txt',header=None,delimiter=' ')\n",
    "\n",
    "sch_x_sch_weights_EQF = pls_EQF.bootres.x_weights_normed[50:,0] # Selección variables corticales\n",
    "df_x_weights_sch_EQF = pd.DataFrame(sch_x_sch_weights_EQF, columns=[\"weight\"])\n",
    "df_x_weights_sch_EQF.index = networks7_order[1]\n",
    "df_x_weights_sch_EQF[\"network\"] = df_x_weights_sch_EQF.index.str.split('_').str.get(2)\n",
    "\n",
    "df_x_weights_sch_EQF.loc[df_x_weights_sch_EQF.network.str.contains('Vis'), 'network'] = 'Vis'\n",
    "df_x_weights_sch_EQF.loc[df_x_weights_sch_EQF.network.str.contains('SomMot'), 'network'] = 'SomMot'\n",
    "df_x_weights_sch_EQF.loc[df_x_weights_sch_EQF.network.str.contains('DorsAttn'), 'network'] = 'DorsAttn'\n",
    "df_x_weights_sch_EQF.loc[df_x_weights_sch_EQF.network.str.contains('SalVentAttn'), 'network'] = 'SalVentAttn'\n",
    "df_x_weights_sch_EQF.loc[df_x_weights_sch_EQF.network.str.contains('Limbic'), 'network'] = 'Limbic'\n",
    "df_x_weights_sch_EQF.loc[df_x_weights_sch_EQF.network.str.contains('Cont'), 'network'] = 'Cont'\n",
    "df_x_weights_sch_EQF.loc[df_x_weights_sch_EQF.network.str.contains('Default'), 'network'] = 'Default'\n",
    "\n",
    "th = 3 \n",
    "df_x_weights_sch_EQF[\"weight_th\"] =  (abs(df_x_weights_sch_EQF[\"weight\"])>= th)*1\n",
    "\n",
    "\n",
    "fig, axes = plt.subplots(1, 2, sharex=False, figsize=(15,5))\n",
    "fig.suptitle('X weights cortical volumes EQF')\n",
    "\n",
    "order_g = df_x_weights_sch_EQF.groupby([\"network\"]).mean().sort_values(by='weight').index\n",
    "g = sns.barplot(x=\"network\", y=\"weight\", ax=axes[0], palette=yeo_pal,\n",
    "                order=order_g, data=df_x_weights_sch_EQF)\n",
    "\n",
    "g.set(ylabel='weight intensity')\n",
    "g.tick_params(labelrotation=60)\n",
    "order_h = df_x_weights_sch_EQF.groupby([\"network\"]).sum().sort_values(by='weight_th').index\n",
    "h = sns.barplot(x=\"network\", y=\"weight_th\", ci=None, ax=axes[1], estimator=sum, palette=yeo_pal,\n",
    "                order=order_h, data=df_x_weights_sch_EQF)\n",
    "h.set(ylabel='weight th count')\n",
    "h.tick_params(labelrotation=60)\n"
   ]
  },
  {
   "cell_type": "code",
   "execution_count": null,
   "metadata": {},
   "outputs": [],
   "source": [
    "sch_x_v_weights_EQF = pls_EQF.bootres.x_weights_normed[:50,0]\n",
    "df_x_weights_v_EQF = pd.DataFrame(sch_x_v_weights_EQF, columns=[\"weight\"])\n",
    "df_x_weights_v_EQF['volume'] = list(EQF_data.iloc[:,:50].columns)\n",
    "#df_x_weights_v_EQF['category'] = ['Lateral-Ventricle','Lateral-Ventricle','Cerebellum','Cerebellum','Thalamus','Caudate','Putamen','Pallidum','3rd-Ventricle','4th-Ventricle','Brain-Stem','Hippocampus','Amygdala','CSF','Accumbens-area','VentralDC','vessel','choroid-plexus','Lateral-Ventricle','Lateral-Ventricle','Cerebellum','Cerebellum','Thalamus','Caudate','Putamen','Pallidum','Hippocampus','Amygdala','Accumbens-area','VentralDC','vessel','choroid-plexus','Optic-Chiasm','CC','CC','CC','CC','CC']\n",
    "th = 3\n",
    "df_x_weights_v_EQF[\"weight_th\"] =  (abs(df_x_weights_v_EQF[\"weight\"])>= th)*1\n",
    "\n",
    "fig, axes = plt.subplots(1, 2, sharex=True, figsize=(15,5))\n",
    "fig.suptitle('X weights subcortical volumes EQF')\n",
    "\n",
    "#g=sns.barplot(x=\"category\", y=\"weight\", ci=None, ax=axes[0],\n",
    "#            data=df_x_weights_v_EQF)\n",
    "g=sns.barplot(x=\"volume\", y=\"weight\", ci=None, ax=axes[0],\n",
    "              data=df_x_weights_v_EQF)\n",
    "g.set(ylabel='weight intensity')\n",
    "g.tick_params(labelrotation=60)\n",
    "h = sns.barplot(x=\"volume\", y=\"weight_th\", ci=None, ax=axes[1], estimator=sum,\n",
    "            data=df_x_weights_v_EQF)\n",
    "h.set(ylabel='weight th count')\n",
    "h.tick_params(labelrotation=60)"
   ]
  },
  {
   "cell_type": "code",
   "execution_count": null,
   "metadata": {},
   "outputs": [],
   "source": [
    "schaefer_image = 'Schaefer2018_400_17N_MNI152_2mm.nii'\n",
    "sch_masker=input_data.NiftiLabelsMasker(schaefer_image)\n",
    "sch_values=sch_masker.fit()\n",
    "th = 3\n",
    "values_brain_weight_vol = sch_masker.inverse_transform(sch_x_sch_weights_EQF[np.newaxis,:])\n",
    "plotting.view_img(values_brain_weight_vol, threshold=th, title='X weights EQF', symmetric_cmap=False)"
   ]
  },
  {
   "cell_type": "markdown",
   "metadata": {},
   "source": [
    "## TAB"
   ]
  },
  {
   "cell_type": "code",
   "execution_count": null,
   "metadata": {},
   "outputs": [],
   "source": [
    "TAB_data = all_data_sorted_TAB.iloc[:,3:-6]\n",
    "networks7_order = pd.read_csv('Schaefer2018_400Parcels_17Networks_order.txt',header=None,delimiter='\\t')\n",
    "sch_x_sch_weights_TAB = pls_TAB.bootres.x_weights_normed[50:,0]\n",
    "df_x_weights_sch_TAB = pd.DataFrame(sch_x_sch_weights_TAB, columns=[\"weight\"])\n",
    "df_x_weights_sch_TAB.index = networks7_order[1]\n",
    "df_x_weights_sch_TAB[\"network\"] = df_x_weights_sch_TAB.index.str.split('_').str.get(2)\n",
    "\n",
    "df_x_weights_sch_TAB.loc[df_x_weights_sch_TAB.network.str.contains('Vis'), 'network'] = 'Vis'\n",
    "df_x_weights_sch_TAB.loc[df_x_weights_sch_TAB.network.str.contains('SomMot'), 'network'] = 'SomMot'\n",
    "df_x_weights_sch_TAB.loc[df_x_weights_sch_TAB.network.str.contains('DorsAttn'), 'network'] = 'DorsAttn'\n",
    "df_x_weights_sch_TAB.loc[df_x_weights_sch_TAB.network.str.contains('SalVentAttn'), 'network'] = 'SalVentAttn'\n",
    "df_x_weights_sch_TAB.loc[df_x_weights_sch_TAB.network.str.contains('Limbic'), 'network'] = 'Limbic'\n",
    "df_x_weights_sch_TAB.loc[df_x_weights_sch_TAB.network.str.contains('Cont'), 'network'] = 'Cont'\n",
    "df_x_weights_sch_TAB.loc[df_x_weights_sch_TAB.network.str.contains('Default'), 'network'] = 'Default'\n",
    "\n",
    "th = 3\n",
    "df_x_weights_sch_TAB[\"weight_th\"] =  (abs(df_x_weights_sch_TAB[\"weight\"])>= th)*1\n",
    "\n",
    "\n",
    "fig, axes = plt.subplots(1, 2, sharex=False, figsize=(15,5))\n",
    "fig.suptitle('X weights cortical volumes TAB')\n",
    "\n",
    "order_g = df_x_weights_sch_TAB.groupby([\"network\"]).mean().sort_values(by='weight').index\n",
    "g = sns.barplot(x=\"network\", y=\"weight\", ax=axes[0], order= order_g,palette=yeo_pal,\n",
    "            data=df_x_weights_sch_TAB)\n",
    "g.set(ylabel='weight intensity')\n",
    "g.tick_params(labelrotation=60)\n",
    "order_h = df_x_weights_sch_TAB.groupby([\"network\"]).sum().sort_values(by='weight_th').index\n",
    "h = sns.barplot(x=\"network\", y=\"weight_th\", ci=None, ax=axes[1], estimator=sum,order= order_h,palette=yeo_pal,\n",
    "            data=df_x_weights_sch_TAB)\n",
    "h.set(ylabel='weight th count')\n",
    "h.tick_params(labelrotation=60)"
   ]
  },
  {
   "cell_type": "code",
   "execution_count": null,
   "metadata": {},
   "outputs": [],
   "source": [
    "sch_x_v_weights_TAB = pls_TAB.bootres.x_weights_normed[:50,0]\n",
    "df_x_weights_v_TAB = pd.DataFrame(sch_x_v_weights_TAB, columns=[\"weight\"])\n",
    "df_x_weights_v_TAB['volume'] = list(TAB_data.iloc[:,:50].columns)\n",
    "#df_x_weights_v_TAB['category'] = ['Lateral-Ventricle','Lateral-Ventricle','Cerebellum','Cerebellum','Thalamus','Caudate','Putamen','Pallidum','3rd-Ventricle','4th-Ventricle','Brain-Stem','Hippocampus','Amygdala','CSF','Accumbens-area','VentralDC','vessel','choroid-plexus','Lateral-Ventricle','Lateral-Ventricle','Cerebellum','Cerebellum','Thalamus','Caudate','Putamen','Pallidum','Hippocampus','Amygdala','Accumbens-area','VentralDC','vessel','choroid-plexus','Optic-Chiasm','CC','CC','CC','CC','CC']\n",
    "th = 3\n",
    "df_x_weights_v_TAB[\"weight_th\"] =  (abs(df_x_weights_v_TAB[\"weight\"])>= th)*1\n",
    "\n",
    "fig, axes = plt.subplots(1, 2, sharex=True, figsize=(15,5))\n",
    "fig.suptitle('X weights subcortical volumes TAB')\n",
    "\n",
    "g=sns.barplot(x=\"volume\", y=\"weight\", ci=None, ax=axes[0],\n",
    "            data=df_x_weights_v_TAB)\n",
    "g.set(ylabel='weight intensity')\n",
    "g.tick_params(labelrotation=60)\n",
    "h = sns.barplot(x=\"volume\", y=\"weight_th\", ci=None, ax=axes[1], estimator=sum,\n",
    "            data=df_x_weights_v_TAB)\n",
    "h.set(ylabel='weight th count')\n",
    "h.tick_params(labelrotation=60)"
   ]
  },
  {
   "cell_type": "code",
   "execution_count": null,
   "metadata": {},
   "outputs": [],
   "source": [
    "schaefer_image = 'Schaefer2018_400_17N_MNI152_2mm.nii'\n",
    "sch_masker=input_data.NiftiLabelsMasker(schaefer_image)\n",
    "sch_values=sch_masker.fit()\n",
    "#th = max(sch_x_sch_weights_TAB)*0.6\n",
    "th=3\n",
    "values_brain_weight_vol = sch_masker.inverse_transform(sch_x_sch_weights_TAB[np.newaxis,:])\n",
    "plotting.view_img(values_brain_weight_vol, threshold=th, title='X weights TAB', symmetric_cmap=False)"
   ]
  },
  {
   "cell_type": "markdown",
   "metadata": {},
   "source": [
    "EQF+TAB"
   ]
  },
  {
   "cell_type": "code",
   "execution_count": null,
   "metadata": {},
   "outputs": [],
   "source": [
    "PSI_data = all_data_sorted_PSI.iloc[:,3:-7]\n",
    "networks7_order = pd.read_csv('Schaefer2018_400Parcels_17Networks_order.txt',header=None,delimiter='\\t')\n",
    "sch_x_sch_weights_PSI = pls_PSI.bootres.x_weights_normed[50:,0]\n",
    "df_x_weights_sch_PSI = pd.DataFrame(sch_x_sch_weights_PSI, columns=[\"weight\"])\n",
    "df_x_weights_sch_PSI.index = networks7_order[1]\n",
    "df_x_weights_sch_PSI[\"network\"] = df_x_weights_sch_PSI.index.str.split('_').str.get(2)\n",
    "\n",
    "df_x_weights_sch_PSI.loc[df_x_weights_sch_PSI.network.str.contains('Vis'), 'network'] = 'Vis'\n",
    "df_x_weights_sch_PSI.loc[df_x_weights_sch_PSI.network.str.contains('SomMot'), 'network'] = 'SomMot'\n",
    "df_x_weights_sch_PSI.loc[df_x_weights_sch_PSI.network.str.contains('DorsAttn'), 'network'] = 'DorsAttn'\n",
    "df_x_weights_sch_PSI.loc[df_x_weights_sch_PSI.network.str.contains('SalVentAttn'), 'network'] = 'SalVentAttn'\n",
    "df_x_weights_sch_PSI.loc[df_x_weights_sch_PSI.network.str.contains('Limbic'), 'network'] = 'Limbic'\n",
    "df_x_weights_sch_PSI.loc[df_x_weights_sch_PSI.network.str.contains('Cont'), 'network'] = 'Cont'\n",
    "df_x_weights_sch_PSI.loc[df_x_weights_sch_PSI.network.str.contains('Default'), 'network'] = 'Default'\n",
    "\n",
    "th = 3\n",
    "df_x_weights_sch_PSI[\"weight_th\"] =  (abs(df_x_weights_sch_PSI[\"weight\"])>= th)*1\n",
    "\n",
    "\n",
    "fig, axes = plt.subplots(1, 2, sharex=False, figsize=(15,5))\n",
    "fig.suptitle('X weights cortical volumes EQF+TAB')\n",
    "\n",
    "order_g = df_x_weights_sch_PSI.groupby([\"network\"]).mean().sort_values(by='weight').index\n",
    "g = sns.barplot(x=\"network\", y=\"weight\", ax=axes[0], order= order_g,palette=yeo_pal,\n",
    "            data=df_x_weights_sch_PSI)\n",
    "g.set(ylabel='weight intensity')\n",
    "g.tick_params(labelrotation=60)\n",
    "order_h = df_x_weights_sch_PSI.groupby([\"network\"]).sum().sort_values(by='weight_th').index\n",
    "h = sns.barplot(x=\"network\", y=\"weight_th\", ci=None, ax=axes[1], estimator=sum,order= order_h,palette=yeo_pal,\n",
    "            data=df_x_weights_sch_PSI)\n",
    "h.set(ylabel='weight th count')\n",
    "h.tick_params(labelrotation=60)\n",
    "# Incluir ROIs en una tabla"
   ]
  },
  {
   "cell_type": "code",
   "execution_count": null,
   "metadata": {},
   "outputs": [],
   "source": [
    "df_x_weights_sch_PSI = df_x_weights_sch_PSI[df_x_weights_sch_PSI['weight_th']>0]\n",
    "df_x_weights_sch_PSI.reset_index(inplace=True)\n",
    "df_x_weights_sch_PSI.columns = ['structure', 'weight','network','weight_th']\n",
    "y = df_x_weights_sch_PSI[['structure','network']]\n",
    "y = y.sort_values(by=['network'])\n",
    "y"
   ]
  },
  {
   "cell_type": "code",
   "execution_count": null,
   "metadata": {},
   "outputs": [],
   "source": [
    "sch_x_v_weights_PSI = pls_PSI.bootres.x_weights_normed[:49,0]\n",
    "df_x_weights_v_PSI = pd.DataFrame(sch_x_v_weights_PSI, columns=[\"weight\"])\n",
    "df_x_weights_v_PSI['volume'] = list(PSI_data.iloc[:,:49].columns)\n",
    "#df_x_weights_v_TAB['category'] = ['Lateral-Ventricle','Lateral-Ventricle','Cerebellum','Cerebellum','Thalamus','Caudate','Putamen','Pallidum','3rd-Ventricle','4th-Ventricle','Brain-Stem','Hippocampus','Amygdala','CSF','Accumbens-area','VentralDC','vessel','choroid-plexus','Lateral-Ventricle','Lateral-Ventricle','Cerebellum','Cerebellum','Thalamus','Caudate','Putamen','Pallidum','Hippocampus','Amygdala','Accumbens-area','VentralDC','vessel','choroid-plexus','Optic-Chiasm','CC','CC','CC','CC','CC']\n",
    "th = 3\n",
    "df_x_weights_v_PSI[\"weight_th\"] =  (abs(df_x_weights_v_PSI[\"weight\"])>= th)*1\n",
    "\n",
    "fig, axes = plt.subplots(1, 2, sharex=True, figsize=(15,5))\n",
    "fig.suptitle('X weights subcortical volumes EQF+TAB')\n",
    "\n",
    "g=sns.barplot(x=\"volume\", y=\"weight\", ci=None, ax=axes[0],\n",
    "            data=df_x_weights_v_PSI)\n",
    "g.set(ylabel='weight intensity')\n",
    "g.tick_params(labelrotation=60)\n",
    "h = sns.barplot(x=\"volume\", y=\"weight_th\", ci=None, ax=axes[1], estimator=sum,\n",
    "            data=df_x_weights_v_PSI)\n",
    "h.set(ylabel='weight th count')\n",
    "h.tick_params(labelrotation=60)"
   ]
  },
  {
   "cell_type": "code",
   "execution_count": null,
   "metadata": {},
   "outputs": [],
   "source": [
    "schaefer_image = 'Schaefer2018_400_17N_MNI152_2mm.nii' \n",
    "sch_masker=input_data.NiftiLabelsMasker(schaefer_image)\n",
    "sch_values=sch_masker.fit()\n",
    "th=3\n",
    "values_brain_weight_vol = sch_masker.inverse_transform(sch_x_sch_weights_PSI[np.newaxis,:])\n",
    "plotting.view_img(values_brain_weight_vol, threshold=th, title='X weights EQF+TAB', symmetric_cmap=False)"
   ]
  },
  {
   "cell_type": "code",
   "execution_count": null,
   "metadata": {},
   "outputs": [],
   "source": [
    "# Ploting stat map\n",
    "#(barrido axial), que se puedan superponer los bordes de las redes (plot contours)\n",
    "schaefer_image = 'Schaefer2018_400_17N_MNI152_2mm.nii'\n",
    "display = plotting.plot_stat_map(values_brain_weight_vol, display_mode='mosaic', cut_coords=(3,3,3), title='X weights EQF+TAB', \n",
    "                       threshold=th, dim = 0, symmetric_cbar=False, black_bg=True,\n",
    "                       colorbar=True)\n",
    "display.add_contours(schaefer_image, cmap='Paired')\n"
   ]
  },
  {
   "cell_type": "code",
   "execution_count": null,
   "metadata": {},
   "outputs": [],
   "source": [
    "schaefer_image = 'Schaefer2018_400_17N_MNI152_2mm.nii'\n",
    "sch_masker=input_data.NiftiLabelsMasker(schaefer_image)\n",
    "sch_values=sch_masker.fit()\n",
    "plotting.plot_roi(schaefer_image, view_type='contours', title=\"\", cmap='Paired')\n",
    "plotting.show()"
   ]
  },
  {
   "cell_type": "code",
   "execution_count": null,
   "metadata": {},
   "outputs": [],
   "source": [
    " "
   ]
  }
 ],
 "metadata": {
  "kernelspec": {
   "display_name": "Python 3 (ipykernel)",
   "language": "python",
   "name": "python3"
  },
  "language_info": {
   "codemirror_mode": {
    "name": "ipython",
    "version": 3
   },
   "file_extension": ".py",
   "mimetype": "text/x-python",
   "name": "python",
   "nbconvert_exporter": "python",
   "pygments_lexer": "ipython3",
   "version": "3.9.12"
  }
 },
 "nbformat": 4,
 "nbformat_minor": 4
}
